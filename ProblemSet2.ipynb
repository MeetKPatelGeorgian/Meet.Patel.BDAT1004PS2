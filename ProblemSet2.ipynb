{
 "cells": [
  {
   "cell_type": "markdown",
   "id": "42106543",
   "metadata": {},
   "source": [
    "# Question 1\n"
   ]
  },
  {
   "cell_type": "code",
   "execution_count": 59,
   "id": "3f629fa9",
   "metadata": {},
   "outputs": [
    {
     "name": "stdout",
     "output_type": "stream",
     "text": [
      "6\n"
     ]
    }
   ],
   "source": [
    "# Question 1\n",
    "#declare the global variable a\n",
    "a = 0\n",
    "def b():\n",
    "    #use the global \n",
    "    global a\n",
    "    # pass the a to c function and change the value of a \n",
    "    a = c(a)\n",
    "def c(a):\n",
    "    # add 2 to value of a and return\n",
    "    return a + 2\n",
    "# a is global variable\n",
    "# calling b function change the value of variable a to 2\n",
    "b()\n",
    "# now the value of a is 2\n",
    "# second time calling b function change the value of variable a to 4 \n",
    "b()\n",
    "# now the value of a is 4\n",
    "# second time calling b function change the value of variable a to 6\n",
    "b()\n",
    "# now the value of a is 6\n",
    "print(a);"
   ]
  },
  {
   "cell_type": "markdown",
   "id": "da0b9e14",
   "metadata": {},
   "source": [
    "# Question 2"
   ]
  },
  {
   "cell_type": "code",
   "execution_count": 3,
   "id": "2cc38645",
   "metadata": {},
   "outputs": [
    {
     "name": "stdout",
     "output_type": "stream",
     "text": [
      "2258\n",
      "File idterm.py not found.\n"
     ]
    }
   ],
   "source": [
    "# Question 2\n",
    "def file_length(file_name):\n",
    "    try:\n",
    "        file = open(file_name)\n",
    "        contents = file.read()\n",
    "        file.close()\n",
    "        print(len(contents))\n",
    "    except:\n",
    "        print(\"File \"+ file_name +\" not found.\")\n",
    "file_length('MidTermExamQuestion23.ipynb')\n",
    "file_length('idterm.py')"
   ]
  },
  {
   "cell_type": "markdown",
   "id": "68607fc9",
   "metadata": {},
   "source": [
    "# Question3"
   ]
  },
  {
   "cell_type": "code",
   "execution_count": 6,
   "id": "d638c133",
   "metadata": {},
   "outputs": [
    {
     "name": "stdout",
     "output_type": "stream",
     "text": [
      "['doll', 'firetruck', 'kitten']\n",
      "I am a Kangaroo located at coordinates (0,0)\n",
      "['doll2', 'firetruck1', 'kitten1']\n",
      "I am a Kangaroo located at coordinates (3,0)\n"
     ]
    }
   ],
   "source": [
    "# Question3\n",
    "class Marsupial:\n",
    "    def __init__(self):\n",
    "        self.pouch = []\n",
    "\n",
    "    def put_in_pouch(self, item):\n",
    "        self.pouch.append(item)\n",
    "\n",
    "    def pouch_contents(self):\n",
    "        print(self.pouch)\n",
    "    \n",
    "class Kangaroo(Marsupial):\n",
    "    def __init__(self, x=0, y=0):\n",
    "        super().__init__()\n",
    "        self.x = x\n",
    "        self.y = y\n",
    "\n",
    "    def jump(self, dx, dy):\n",
    "        self.x += dx\n",
    "        self.y += dy\n",
    "\n",
    "    def __str__(self):\n",
    "        return \"I am a Kangaroo located at coordinates (\"+self.x+\",\"+{self.y}+\")\"\n",
    "m = Marsupial()\n",
    "m.put_in_pouch('doll')\n",
    "m.put_in_pouch('firetruck')\n",
    "m.put_in_pouch('kitten')\n",
    "m.pouch_contents()\n",
    "    \n",
    "kangaroo = Kangaroo(0,0)\n",
    "print(kangaroo)\n",
    "kangaroo.put_in_pouch('doll2')\n",
    "kangaroo.put_in_pouch('firetruck1')\n",
    "kangaroo.put_in_pouch('kitten1')\n",
    "kangaroo.pouch_contents()\n",
    "kangaroo.jump(1,0)\n",
    "kangaroo.jump(1,0)\n",
    "kangaroo.jump(1,0)\n",
    "print(kangaroo)\n"
   ]
  },
  {
   "cell_type": "markdown",
   "id": "7cb9e950",
   "metadata": {},
   "source": [
    "# Question4"
   ]
  },
  {
   "cell_type": "code",
   "execution_count": 10,
   "id": "319d7867",
   "metadata": {},
   "outputs": [
    {
     "name": "stdout",
     "output_type": "stream",
     "text": [
      "Ans for 1\n",
      "1\n",
      "Ans for 10\n",
      "10\n",
      "5\n",
      "16\n",
      "8\n",
      "4\n",
      "2\n",
      "1\n",
      "Ans for 11\n",
      "11\n",
      "34\n",
      "17\n",
      "52\n",
      "26\n",
      "13\n",
      "40\n",
      "20\n",
      "10\n",
      "5\n",
      "16\n",
      "8\n",
      "4\n",
      "2\n",
      "1\n"
     ]
    }
   ],
   "source": [
    "# Question4\n",
    "def Collatz(x):\n",
    "    print(x)\n",
    "\n",
    "    if x == 1:\n",
    "        return\n",
    "\n",
    "    if x % 2 == 0:\n",
    "        Collatz(x // 2)\n",
    "    else:\n",
    "        Collatz(3 * x + 1)\n",
    "print(\"Ans for 1\")        \n",
    "Collatz(1)\n",
    "print(\"Ans for 10\")\n",
    "Collatz(10)\n",
    "print(\"Ans for 11\")\n",
    "Collatz(11)"
   ]
  },
  {
   "cell_type": "markdown",
   "id": "eaa0e790",
   "metadata": {},
   "source": [
    "# Question5"
   ]
  },
  {
   "cell_type": "code",
   "execution_count": 15,
   "id": "f9135169",
   "metadata": {},
   "outputs": [
    {
     "name": "stdout",
     "output_type": "stream",
     "text": [
      "for 0\n",
      "0\n",
      "for 1\n",
      "1\n",
      "for 3\n",
      "11\n",
      "for 9\n",
      "1001"
     ]
    }
   ],
   "source": [
    "#Question5\n",
    "def binary(n):\n",
    "    if n < 0:\n",
    "        return;\n",
    "    if n > 1:\n",
    "        binary(n // 2)\n",
    "    print(n % 2, end=\"\")\n",
    "print(\"for 0\")\n",
    "binary(0)\n",
    "print(\"\\nfor 1\")\n",
    "binary(1)\n",
    "print(\"\\nfor 3\")\n",
    "binary(3)\n",
    "print(\"\\nfor 9\")\n",
    "binary(9)"
   ]
  },
  {
   "cell_type": "markdown",
   "id": "710daac4",
   "metadata": {},
   "source": [
    "# Question6"
   ]
  },
  {
   "cell_type": "code",
   "execution_count": 26,
   "id": "ca30fcc9",
   "metadata": {},
   "outputs": [
    {
     "name": "stdout",
     "output_type": "stream",
     "text": [
      "Change_me\n",
      "W3C Mission\n",
      "Principles\n",
      "\n"
     ]
    }
   ],
   "source": [
    "#Question6\n",
    "from html.parser import HTMLParser\n",
    "class HeadingParser(HTMLParser):\n",
    "    def __init__(self):\n",
    "        super().__init__()\n",
    "        self.headings = []\n",
    "        self.current_heading = \"\"\n",
    "        self.indentation_level = 0\n",
    "\n",
    "    def handle_starttag(self, tag, attrs):\n",
    "        if tag.startswith('h') and len(tag) == 2:\n",
    "            self.current_heading = \"\"\n",
    "            self.indentation_level = int(tag[1])\n",
    "    \n",
    "    def handle_data(self, data):\n",
    "        self.current_heading += data\n",
    "\n",
    "    def handle_endtag(self, tag):\n",
    "        if tag.startswith('h'):\n",
    "            self.headings.append(self.current_heading.strip())\n",
    "            self.current_heading = \"\"\n",
    "            self.indentation_level = 0\n",
    "    \n",
    "    def print_headings(self):\n",
    "        for heading in self.headings:\n",
    "            indentation = \"\\t\" * self.indentation_level\n",
    "            print(f\"{indentation}{heading}\")\n",
    "            \n",
    "infile = open('w3c.html', 'r')\n",
    "content = infile.read()\n",
    "infile.close()\n",
    "\n",
    "hp = HeadingParser()\n",
    "hp.feed(content)\n",
    "hp.print_headings()"
   ]
  },
  {
   "cell_type": "markdown",
   "id": "d39e3974",
   "metadata": {},
   "source": [
    "# Question7"
   ]
  },
  {
   "cell_type": "code",
   "execution_count": 31,
   "id": "13970529",
   "metadata": {},
   "outputs": [
    {
     "name": "stdout",
     "output_type": "stream",
     "text": [
      "http://reed.cs.depaul.edu/lperkovic/csc242/test1.html\n"
     ]
    }
   ],
   "source": [
    "#Question7\n",
    "import requests\n",
    "from bs4 import BeautifulSoup\n",
    "\n",
    "\n",
    "def webdir(url, depth, indent):\n",
    "    print(url)\n",
    "    if depth < 0:\n",
    "        return\n",
    "\n",
    "    response = requests.get(url)\n",
    "    if response.status_code == 200:\n",
    "        content = response.text\n",
    "        soup = BeautifulSoup(content, 'html.parser')\n",
    "        print(' ' * indent + url)\n",
    "\n",
    "        for link in soup.find_all('a'):\n",
    "            href = link.get('href')\n",
    "            if href.startswith('http'):\n",
    "                webdir(href, depth - 1, indent + 4)\n",
    "\n",
    "webdir('http://reed.cs.depaul.edu/lperkovic/csc242/test1.html', 2, 1)"
   ]
  },
  {
   "cell_type": "markdown",
   "id": "6c2c3195",
   "metadata": {},
   "source": [
    "# Question8"
   ]
  },
  {
   "cell_type": "code",
   "execution_count": 41,
   "id": "f4de74af",
   "metadata": {},
   "outputs": [],
   "source": [
    "#Question 8\n",
    "import sqlite3\n",
    "\n",
    "conn = sqlite3.connect('weatherData.db')\n",
    "cursor = conn.cursor()\n",
    "\n",
    "cursor.execute('''CREATE TABLE weather (\n",
    "                    City TEXT,\n",
    "                    Country TEXT,\n",
    "                    Season TEXT,\n",
    "                    Temperature REAL,\n",
    "                    Rainfall REAL\n",
    "                )''')\n",
    "data = [\n",
    "    ('Mumbai', 'India', 'Winter', 24.8, 5.9),\n",
    "    ('Mumbai', 'India', 'Spring', 28.4, 16.2),\n",
    "    ('Mumbai', 'India', 'Summer', 27.9, 1549.4),\n",
    "    ('Mumbai', 'India', 'Fall', 27.6, 346.0),\n",
    "    ('London', 'United Kingdom', 'Winter', 4.2, 207.7),\n",
    "    ('London', 'United Kingdom', 'Spring', 8.3, 169.6),\n",
    "    ('London', 'United Kingdom', 'Summer', 15.7, 157.0),\n",
    "    ('London', 'United Kingdom', 'Fall', 10.4, 218.5),\n",
    "    ('Cairo', 'Egypt', 'Winter', 13.6, 16.5),\n",
    "    ('Cairo', 'Egypt', 'Spring', 20.7, 6.5),\n",
    "    ('Cairo', 'Egypt', 'Summer', 27.7, 0.1),\n",
    "    ('Cairo', 'Egypt', 'Fall', 22.2, 4.5)\n",
    "]\n",
    "cursor.executemany('INSERT INTO weather VALUES (?,?,?,?,?)', data)\n",
    "conn.commit()\n",
    "\n"
   ]
  },
  {
   "cell_type": "code",
   "execution_count": 57,
   "id": "8d6e7645",
   "metadata": {},
   "outputs": [
    {
     "name": "stdout",
     "output_type": "stream",
     "text": [
      "Temperature Data:\n",
      "24.8\n",
      "28.4\n",
      "27.9\n",
      "27.6\n",
      "4.2\n",
      "8.3\n",
      "15.7\n",
      "10.4\n",
      "13.6\n",
      "20.7\n",
      "27.7\n",
      "22.2\n",
      "\n",
      "Cities without repetition:\n",
      "Mumbai\n",
      "London\n",
      "Cairo\n",
      "\n",
      "Records for India:\n",
      "('Mumbai', 'India', 'Winter', 24.8, 5.9)\n",
      "('Mumbai', 'India', 'Spring', 28.4, 16.2)\n",
      "('Mumbai', 'India', 'Summer', 27.9, 1549.4)\n",
      "('Mumbai', 'India', 'Fall', 27.6, 346.0)\n",
      "\n",
      "Fall Records:\n",
      "('Mumbai', 'India', 'Fall', 27.6, 346.0)\n",
      "('London', 'United Kingdom', 'Fall', 10.4, 218.5)\n",
      "('Cairo', 'Egypt', 'Fall', 22.2, 4.5)\n",
      "City, Country, and Season with average rainfall between 200 and 400 millimeters:\n",
      "('London', 'United Kingdom', 'Fall')\n",
      "('London', 'United Kingdom', 'Winter')\n",
      "('Mumbai', 'India', 'Fall')\n",
      "\n",
      "City and Country with average Fall temperature above 20 degrees (in increasing temperature order):\n",
      "('Cairo', 'Egypt')\n",
      "('Mumbai', 'India')\n",
      "\n",
      "Total annual rainfall for Cairo: 27.6 millimeters\n",
      "\n",
      "Total rainfall for each season:\n",
      "Season: Fall - Total Rainfall: 569.0 millimeters\n",
      "Season: Spring - Total Rainfall: 192.29999999999998 millimeters\n",
      "Season: Summer - Total Rainfall: 1706.5 millimeters\n",
      "Season: Winter - Total Rainfall: 230.1 millimeters\n"
     ]
    }
   ],
   "source": [
    "#Question8 continue\n",
    "# Fetch all temperature data\n",
    "cursor.execute(\"SELECT Temperature FROM weather\")\n",
    "temperature_data = cursor.fetchall()\n",
    "print(\"Temperature Data:\")\n",
    "for temperature in temperature_data:\n",
    "    print(temperature[0])\n",
    "\n",
    "# Fetch all unique cities\n",
    "cursor.execute(\"SELECT DISTINCT City FROM weather\")\n",
    "cities_data = cursor.fetchall()\n",
    "print(\"\\nCities without repetition:\")\n",
    "for city in cities_data:\n",
    "    print(city[0])\n",
    "\n",
    "# Fetch all records for India\n",
    "cursor.execute(\"SELECT * FROM weather WHERE Country = 'India'\")\n",
    "india_data = cursor.fetchall()\n",
    "print(\"\\nRecords for India:\")\n",
    "for record in india_data:\n",
    "    print(record)\n",
    "\n",
    "# Fetch all Fall records\n",
    "cursor.execute(\"SELECT * FROM weather WHERE Season = 'Fall'\")\n",
    "fall_data = cursor.fetchall()\n",
    "print(\"\\nFall Records:\")\n",
    "for record in fall_data:\n",
    "    print(record)\n",
    "\n",
    "# Retrieve city, country, and season with average rainfall between 200 and 400 millimeters\n",
    "cursor.execute('''SELECT City, Country, Season \n",
    "                  FROM weather \n",
    "                  WHERE Rainfall BETWEEN 200 AND 400\n",
    "                  GROUP BY City, Country, Season''')\n",
    "avg_rainfall_data = cursor.fetchall()\n",
    "print(\"City, Country, and Season with average rainfall between 200 and 400 millimeters:\")\n",
    "for data in avg_rainfall_data:\n",
    "    print(data)\n",
    "\n",
    "# Retrieve city and country with average Fall temperature above 20 degrees, in increasing temperature order\n",
    "cursor.execute('''SELECT City, Country\n",
    "                  FROM weather\n",
    "                  WHERE Season = 'Fall'\n",
    "                  GROUP BY City, Country\n",
    "                  HAVING AVG(Temperature) > 20\n",
    "                  ORDER BY AVG(Temperature) ASC''')\n",
    "avg_temp_data = cursor.fetchall()\n",
    "print(\"\\nCity and Country with average Fall temperature above 20 degrees (in increasing temperature order):\")\n",
    "for data in avg_temp_data:\n",
    "    print(data)\n",
    "\n",
    "# Retrieve total annual rainfall for Cairo\n",
    "cursor.execute(\"SELECT SUM(Rainfall) FROM weather WHERE City = 'Cairo'\")\n",
    "total_rainfall_cairo = cursor.fetchone()[0]\n",
    "print(\"\\nTotal annual rainfall for Cairo:\", total_rainfall_cairo, \"millimeters\")\n",
    "\n",
    "# Retrieve total rainfall for each season\n",
    "cursor.execute('''SELECT Season, SUM(Rainfall)\n",
    "                  FROM weather\n",
    "                  GROUP BY Season''')\n",
    "total_rainfall_season = cursor.fetchall()\n",
    "print(\"\\nTotal rainfall for each season:\")\n",
    "for data in total_rainfall_season:\n",
    "    print(\"Season:\", data[0], \"- Total Rainfall:\", data[1], \"millimeters\")\n",
    "\n",
    "\n",
    "conn.close()"
   ]
  },
  {
   "cell_type": "markdown",
   "id": "1a6658a0",
   "metadata": {},
   "source": [
    "# Question9"
   ]
  },
  {
   "cell_type": "code",
   "execution_count": 58,
   "id": "bc5c48e4",
   "metadata": {},
   "outputs": [
    {
     "name": "stdout",
     "output_type": "stream",
     "text": [
      "['THE', 'QUICK', 'BROWN', 'FOX', 'JUMPS', 'OVER', 'THE', 'LAZY', 'DOG']\n",
      "['the', 'quick', 'brown', 'fox', 'jumps', 'over', 'the', 'lazy', 'dog']\n",
      "[3, 5, 5, 3, 5, 4, 3, 4, 3]\n",
      "[['THE', 'the', 3], ['QUICK', 'quick', 5], ['BROWN', 'brown', 5], ['FOX', 'fox', 3], ['JUMPS', 'jumps', 5], ['OVER', 'over', 4], ['THE', 'the', 3], ['LAZY', 'lazy', 4], ['DOG', 'dog', 3]]\n",
      "['quick', 'brown', 'jumps', 'over', 'lazy']\n"
     ]
    }
   ],
   "source": [
    "words = ['The', 'quick', 'brown', 'fox', 'jumps', 'over', 'the', 'lazy', 'dog']\n",
    "\n",
    "# List of words in uppercase\n",
    "list1 = [word.upper() for word in words]\n",
    "print(list1)\n",
    "\n",
    "# List of words in lowercase\n",
    "list2 = [word.lower() for word in words]\n",
    "print(list2)\n",
    "\n",
    "# List of lengths of words\n",
    "list3 = [len(word) for word in words]\n",
    "print(list3)\n",
    "\n",
    "# List containing word, lowercase word, and length for each word\n",
    "list4 = [[word.upper(), word.lower(), len(word)] for word in words]\n",
    "print(list4)\n",
    "\n",
    "# List of words with 4 or more characters\n",
    "list5 = [word for word in words if len(word) >= 4]\n",
    "print(list5)\n"
   ]
  },
  {
   "cell_type": "code",
   "execution_count": null,
   "id": "2d087f98",
   "metadata": {},
   "outputs": [],
   "source": []
  }
 ],
 "metadata": {
  "kernelspec": {
   "display_name": "Python 3 (ipykernel)",
   "language": "python",
   "name": "python3"
  },
  "language_info": {
   "codemirror_mode": {
    "name": "ipython",
    "version": 3
   },
   "file_extension": ".py",
   "mimetype": "text/x-python",
   "name": "python",
   "nbconvert_exporter": "python",
   "pygments_lexer": "ipython3",
   "version": "3.10.9"
  }
 },
 "nbformat": 4,
 "nbformat_minor": 5
}
